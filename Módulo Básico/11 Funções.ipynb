{
 "cells": [
  {
   "cell_type": "code",
   "execution_count": 2,
   "id": "5ccb581d",
   "metadata": {},
   "outputs": [],
   "source": [
    "def hello():              #Após executar ela não faz nada, apenas é definida\n",
    "    print('Olá, Mundo!')"
   ]
  },
  {
   "cell_type": "code",
   "execution_count": 3,
   "id": "e28746a9",
   "metadata": {},
   "outputs": [
    {
     "name": "stdout",
     "output_type": "stream",
     "text": [
      "Olá, Mundo!\n"
     ]
    }
   ],
   "source": [
    "hello()               #Ao chamar a função, aí sim ela irá retornar"
   ]
  },
  {
   "cell_type": "code",
   "execution_count": 4,
   "id": "8993050c",
   "metadata": {},
   "outputs": [],
   "source": [
    "def calcula_media(valor1, valor2, valor3):         #Essa função irá receber 3 valores e retornar a média\n",
    "    soma = valor1 + valor2 + valor3\n",
    "    media = soma / 3\n",
    "    return media"
   ]
  },
  {
   "cell_type": "code",
   "execution_count": 5,
   "id": "c5d27e69",
   "metadata": {},
   "outputs": [
    {
     "name": "stdout",
     "output_type": "stream",
     "text": [
      "9.0\n"
     ]
    }
   ],
   "source": [
    "resultado = calcula_media(9, 10, 8)\n",
    "print(resultado)"
   ]
  },
  {
   "cell_type": "code",
   "execution_count": 6,
   "id": "eaadf44d",
   "metadata": {},
   "outputs": [
    {
     "name": "stdout",
     "output_type": "stream",
     "text": [
      "Olá\n",
      "Mundo\n",
      "Olá Mundo\n"
     ]
    }
   ],
   "source": [
    "print('Olá')           #A função print tem um parâmetro end padrão que é programado para pular linha. Pode ser modificado\n",
    "print('Mundo')\n",
    "\n",
    "print('Olá', end = ' ') # Altera o end para um espaço, e não quebra de linhab\n",
    "print('Mundo')"
   ]
  },
  {
   "cell_type": "code",
   "execution_count": 7,
   "id": "60349260",
   "metadata": {},
   "outputs": [],
   "source": [
    "def calcula_media(valor1 = 0, valor2 = 0, valor3 = 0):   #Agora os parâmetros são por definição zero.Não é obrigatório informar\n",
    "    soma = valor1 + valor2 + valor3\n",
    "    media = soma / 3\n",
    "    return media"
   ]
  },
  {
   "cell_type": "code",
   "execution_count": 20,
   "id": "f3975f28",
   "metadata": {},
   "outputs": [
    {
     "name": "stdout",
     "output_type": "stream",
     "text": [
      "1.67\n"
     ]
    }
   ],
   "source": [
    "x = 2\n",
    "y = 3\n",
    "\n",
    "resultado = calcula_media(x,y)\n",
    "print(f'{resultado:.2f}')"
   ]
  }
 ],
 "metadata": {
  "kernelspec": {
   "display_name": "Python 3 (ipykernel)",
   "language": "python",
   "name": "python3"
  },
  "language_info": {
   "codemirror_mode": {
    "name": "ipython",
    "version": 3
   },
   "file_extension": ".py",
   "mimetype": "text/x-python",
   "name": "python",
   "nbconvert_exporter": "python",
   "pygments_lexer": "ipython3",
   "version": "3.10.7"
  }
 },
 "nbformat": 4,
 "nbformat_minor": 5
}
