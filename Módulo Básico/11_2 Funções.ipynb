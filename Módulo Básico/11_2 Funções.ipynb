{
 "cells": [
  {
   "cell_type": "code",
   "execution_count": 1,
   "id": "0d16d928",
   "metadata": {},
   "outputs": [],
   "source": [
    "def funcao(*args):           #Utilizando args você recebe quantos argumentos a pessoa informar\n",
    "    print(args)\n",
    "    print(type(args))"
   ]
  },
  {
   "cell_type": "code",
   "execution_count": 2,
   "id": "df73dcdf",
   "metadata": {},
   "outputs": [
    {
     "name": "stdout",
     "output_type": "stream",
     "text": [
      "(1, 2, 3, 4, 5, 6)\n",
      "<class 'tuple'>\n"
     ]
    }
   ],
   "source": [
    "funcao(1,2,3,4,5,6)         #Args será uma tupla"
   ]
  },
  {
   "cell_type": "code",
   "execution_count": 3,
   "id": "8cdb542d",
   "metadata": {},
   "outputs": [],
   "source": [
    "def calcula_media(*args):    #Calculando a média de quantos números forem informados\n",
    "    soma = sum(args)\n",
    "    media = soma / len(args)\n",
    "    return media"
   ]
  },
  {
   "cell_type": "code",
   "execution_count": 5,
   "id": "4910cabf",
   "metadata": {},
   "outputs": [
    {
     "data": {
      "text/plain": [
       "8.0"
      ]
     },
     "execution_count": 5,
     "metadata": {},
     "output_type": "execute_result"
    }
   ],
   "source": [
    "calcula_media(10,8,9,7,6)"
   ]
  },
  {
   "cell_type": "code",
   "execution_count": 6,
   "id": "f1d8b40c",
   "metadata": {},
   "outputs": [],
   "source": [
    "def print_info(**kwargs):           #kwargs recebe um dicionário. Não precisa chamar kwargs, pode dar outro nome\n",
    "    print(kwargs, type(kwargs))"
   ]
  },
  {
   "cell_type": "code",
   "execution_count": 8,
   "id": "39086635",
   "metadata": {},
   "outputs": [
    {
     "name": "stdout",
     "output_type": "stream",
     "text": [
      "{'nome': 'Michel', 'sobrenome': 'Silva'} <class 'dict'>\n"
     ]
    }
   ],
   "source": [
    "print_info(nome='Michel', sobrenome = 'Silva')"
   ]
  }
 ],
 "metadata": {
  "kernelspec": {
   "display_name": "Python 3 (ipykernel)",
   "language": "python",
   "name": "python3"
  },
  "language_info": {
   "codemirror_mode": {
    "name": "ipython",
    "version": 3
   },
   "file_extension": ".py",
   "mimetype": "text/x-python",
   "name": "python",
   "nbconvert_exporter": "python",
   "pygments_lexer": "ipython3",
   "version": "3.10.7"
  }
 },
 "nbformat": 4,
 "nbformat_minor": 5
}
