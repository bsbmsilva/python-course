{
 "cells": [
  {
   "cell_type": "code",
   "execution_count": 1,
   "id": "b8cc9a3c",
   "metadata": {},
   "outputs": [
    {
     "name": "stdout",
     "output_type": "stream",
     "text": [
      "São Paulo\n",
      "Londres\n",
      "Tóquio\n",
      "Paris\n"
     ]
    }
   ],
   "source": [
    "nomes_cidade = ['São Paulo', 'Londres', 'Tóquio', 'Paris'] #Imprimir os elementos de uma lista usando for. Mesma coisa com tupla\n",
    "for i in nomes_cidade:\n",
    "    print(i)"
   ]
  },
  {
   "cell_type": "code",
   "execution_count": 2,
   "id": "1f6ddd83",
   "metadata": {},
   "outputs": [
    {
     "name": "stdout",
     "output_type": "stream",
     "text": [
      "São Paulo\n",
      "Londres\n",
      "Tóquio\n",
      "Paris\n"
     ]
    }
   ],
   "source": [
    "i = 0                                                      #Mesmo exemplo com o uso de while\n",
    "nomes_cidade = ['São Paulo', 'Londres', 'Tóquio', 'Paris']\n",
    "while i < len(nomes_cidade):\n",
    "    print(nomes_cidade[i])\n",
    "    i = i + 1"
   ]
  },
  {
   "cell_type": "code",
   "execution_count": 4,
   "id": "0cc4e96e",
   "metadata": {},
   "outputs": [
    {
     "name": "stdout",
     "output_type": "stream",
     "text": [
      "nome: São Paulo\n",
      "estado: São Paulo\n",
      "populacao_milhoes: 12.2\n"
     ]
    }
   ],
   "source": [
    "cidade = {                                          #Como iterar os elementos de um dicionário\n",
    "    'nome': 'São Paulo',\n",
    "    'estado': 'São Paulo',\n",
    "    'populacao_milhoes': 12.2\n",
    "}\n",
    "\n",
    "for chave in cidade:\n",
    "    print(f'{chave}: {cidade[chave]}')"
   ]
  },
  {
   "cell_type": "code",
   "execution_count": 9,
   "id": "a6357a45",
   "metadata": {},
   "outputs": [
    {
     "name": "stdout",
     "output_type": "stream",
     "text": [
      "São Paulo\n",
      "Rio de Janeiro\n",
      "---\n",
      "Londres\n",
      "Rio de Janeiro\n",
      "---\n",
      "Tóquio\n",
      "Rio de Janeiro\n",
      "---\n",
      "Paris\n",
      "Rio de Janeiro\n",
      "---\n",
      "['São Paulo', 'Londres', 'Tóquio', 'Paris']\n"
     ]
    }
   ],
   "source": [
    "nomes_cidade = ['São Paulo', 'Londres', 'Tóquio', 'Paris']  #Não dá para alterar o valor dos elementos dessa forma\n",
    "for i in nomes_cidade:\n",
    "    print(i)\n",
    "    i = 'Rio de Janeiro'\n",
    "    print(i)\n",
    "    print('---')\n",
    "print(nomes_cidade)"
   ]
  },
  {
   "cell_type": "code",
   "execution_count": 7,
   "id": "51d95911",
   "metadata": {},
   "outputs": [
    {
     "name": "stdout",
     "output_type": "stream",
     "text": [
      "['Rio de Janeiro', 'Rio de Janeiro', 'Rio de Janeiro', 'Rio de Janeiro']\n"
     ]
    }
   ],
   "source": [
    "nomes_cidade = ['São Paulo', 'Londres', 'Tóquio', 'Paris'] #Possível alterar usando range\n",
    "for i in range(len(nomes_cidade)):\n",
    "    nomes_cidade[i] = 'Rio de Janeiro'\n",
    "print(nomes_cidade)"
   ]
  },
  {
   "cell_type": "code",
   "execution_count": 10,
   "id": "156bcf12",
   "metadata": {},
   "outputs": [
    {
     "name": "stdout",
     "output_type": "stream",
     "text": [
      "[0, 1, 2, 3, 4, 5, 6, 7, 8, 9]\n",
      "[2, 3, 4, 5, 6, 7, 8, 9]\n",
      "[2, 4, 6, 8]\n"
     ]
    }
   ],
   "source": [
    "print(list(range(10)))          #Exemplos de aplicações do range\n",
    "print(list(range(2,10)))\n",
    "print(list(range(2,10,2)))"
   ]
  }
 ],
 "metadata": {
  "kernelspec": {
   "display_name": "Python 3 (ipykernel)",
   "language": "python",
   "name": "python3"
  },
  "language_info": {
   "codemirror_mode": {
    "name": "ipython",
    "version": 3
   },
   "file_extension": ".py",
   "mimetype": "text/x-python",
   "name": "python",
   "nbconvert_exporter": "python",
   "pygments_lexer": "ipython3",
   "version": "3.10.7"
  }
 },
 "nbformat": 4,
 "nbformat_minor": 5
}
