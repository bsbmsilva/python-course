{
 "cells": [
  {
   "cell_type": "code",
   "execution_count": 1,
   "id": "35ab94f2",
   "metadata": {},
   "outputs": [
    {
     "name": "stdout",
     "output_type": "stream",
     "text": [
      "Olá, Felipe\n"
     ]
    }
   ],
   "source": [
    "cumprimento = \"Olá, \"\n",
    "nome = \"Felipe\"\n",
    "\n",
    "print(cumprimento + nome) #Função print concatena"
   ]
  },
  {
   "cell_type": "code",
   "execution_count": 2,
   "id": "294b9276",
   "metadata": {},
   "outputs": [
    {
     "name": "stdout",
     "output_type": "stream",
     "text": [
      "FelipeFelipeFelipeFelipeFelipe\n"
     ]
    }
   ],
   "source": [
    "print(nome * 5)"
   ]
  },
  {
   "cell_type": "code",
   "execution_count": 5,
   "id": "89464c3b",
   "metadata": {},
   "outputs": [
    {
     "name": "stdout",
     "output_type": "stream",
     "text": [
      "Felipe tem 35 anos e tem 2 filhos.\n"
     ]
    }
   ],
   "source": [
    "nome = \"Felipe\"\n",
    "idade = 35\n",
    "n_filhos = 2\n",
    "\n",
    "print(nome + \" tem \" + str(idade) + \" anos e tem \" + str(n_filhos) + \" filhos.\") #Necessário transformar os números em string"
   ]
  },
  {
   "cell_type": "code",
   "execution_count": 6,
   "id": "1495251d",
   "metadata": {},
   "outputs": [
    {
     "name": "stdout",
     "output_type": "stream",
     "text": [
      "Felipe tem 35 anos e tem 2 filhos\n"
     ]
    }
   ],
   "source": [
    "print('{} tem {} anos e tem {} filhos'.format(nome, idade, n_filhos)) #format"
   ]
  },
  {
   "cell_type": "code",
   "execution_count": 7,
   "id": "355c3bda",
   "metadata": {},
   "outputs": [
    {
     "name": "stdout",
     "output_type": "stream",
     "text": [
      "O preço da gasolina subiu e está hoje em R$ 4.99\n"
     ]
    }
   ],
   "source": [
    "preco_gasolina = 4.987\n",
    "print(\"O preço da gasolina subiu e está hoje em R$ {:.2f}\".format(preco_gasolina)) #Limitando o número de casas impressasb"
   ]
  },
  {
   "cell_type": "code",
   "execution_count": 8,
   "id": "c42fd83b",
   "metadata": {},
   "outputs": [
    {
     "name": "stdout",
     "output_type": "stream",
     "text": [
      "Felipe tem 35 anos e tem 2 filhos\n"
     ]
    }
   ],
   "source": [
    "print(f\"{nome} tem {idade} anos e tem {n_filhos} filhos\") #Atalho de format"
   ]
  }
 ],
 "metadata": {
  "kernelspec": {
   "display_name": "Python 3 (ipykernel)",
   "language": "python",
   "name": "python3"
  },
  "language_info": {
   "codemirror_mode": {
    "name": "ipython",
    "version": 3
   },
   "file_extension": ".py",
   "mimetype": "text/x-python",
   "name": "python",
   "nbconvert_exporter": "python",
   "pygments_lexer": "ipython3",
   "version": "3.10.7"
  }
 },
 "nbformat": 4,
 "nbformat_minor": 5
}
